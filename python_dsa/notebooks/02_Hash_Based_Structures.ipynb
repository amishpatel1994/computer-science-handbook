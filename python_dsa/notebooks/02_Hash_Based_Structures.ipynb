{
    "cells": [
        {
            "cell_type": "markdown",
            "metadata": {},
            "source": [
                "# Hash-Based Data Structures\n",
                "\n",
                "This notebook covers hash-based data structures and their applications in coding interviews.\n",
                "\n",
                "## Topics Covered\n",
                "1. Dictionaries (Hash Maps)\n",
                "2. Sets\n",
                "3. Common Hash Table Patterns\n",
                "4. Practice Problems"
            ]
        },
        {
            "cell_type": "markdown",
            "metadata": {},
            "source": [
                "## 1. Dictionaries (Hash Maps)\n",
                "\n",
                "Python dictionaries are implementations of hash tables providing O(1) average case for insertions, deletions, and lookups."
            ]
        },
        {
            "cell_type": "code",
            "execution_count": null,
            "metadata": {},
            "outputs": [],
            "source": [
                "# Basic dictionary operations\n",
                "scores = {}\n",
                "\n",
                "# Insert - O(1)\n",
                "scores['Alice'] = 95\n",
                "scores['Bob'] = 87\n",
                "scores['Charlie'] = 92\n",
                "\n",
                "# Lookup - O(1)\n",
                "alice_score = scores.get('Alice', 0)  # Default 0 if key doesn't exist\n",
                "\n",
                "# Delete - O(1)\n",
                "del scores['Bob']\n",
                "\n",
                "# Check key existence - O(1)\n",
                "has_david = 'David' in scores\n",
                "\n",
                "print(f\"Current scores: {scores}\")\n",
                "print(f\"Alice's score: {alice_score}\")\n",
                "print(f\"Has David's score: {has_david}\")"
            ]
        },
        {
            "cell_type": "markdown",
            "metadata": {},
            "source": [
                "## 2. Sets\n",
                "\n",
                "Sets are unordered collections of unique elements, implemented using hash tables."
            ]
        },
        {
            "cell_type": "code",
            "execution_count": null,
            "metadata": {},
            "outputs": [],
            "source": [
                "# Set operations\n",
                "numbers = {1, 2, 3, 4, 5}\n",
                "more_numbers = {4, 5, 6, 7, 8}\n",
                "\n",
                "# Add element - O(1)\n",
                "numbers.add(6)\n",
                "\n",
                "# Remove element - O(1)\n",
                "numbers.remove(1)\n",
                "\n",
                "# Set operations\n",
                "union = numbers | more_numbers\n",
                "intersection = numbers & more_numbers\n",
                "difference = numbers - more_numbers\n",
                "\n",
                "print(f\"Union: {union}\")\n",
                "print(f\"Intersection: {intersection}\")\n",
                "print(f\"Difference: {difference}\")"
            ]
        },
        {
            "cell_type": "markdown",
            "metadata": {},
            "source": [
                "## 3. Common Hash Table Patterns\n",
                "\n",
                "### Pattern 1: Frequency Counter"
            ]
        },
        {
            "cell_type": "code",
            "execution_count": null,
            "metadata": {},
            "outputs": [],
            "source": [
                "from collections import Counter\n",
                "\n",
                "def are_anagrams(str1, str2):\n",
                "    \"\"\"Check if two strings are anagrams using frequency counter pattern.\"\"\"\n",
                "    return Counter(str1) == Counter(str2)\n",
                "\n",
                "# Example usage\n",
                "str1 = \"listen\"\n",
                "str2 = \"silent\"\n",
                "result = are_anagrams(str1, str2)\n",
                "print(f\"Are '{str1}' and '{str2}' anagrams? {result}\")"
            ]
        },
        {
            "cell_type": "markdown",
            "metadata": {},
            "source": [
                "### Pattern 2: Two-Sum Pattern"
            ]
        },
        {
            "cell_type": "code",
            "execution_count": null,
            "metadata": {},
            "outputs": [],
            "source": [
                "def two_sum(nums, target):\n",
                "    \"\"\"Find indices of two numbers that add up to target using hash table.\"\"\"\n",
                "    seen = {}\n",
                "    \n",
                "    for i, num in enumerate(nums):\n",
                "        complement = target - num\n",
                "        if complement in seen:\n",
                "            return [seen[complement], i]\n",
                "        seen[num] = i\n",
                "    \n",
                "    return []  # No solution found\n",
                "\n",
                "# Example usage\n",
                "nums = [2, 7, 11, 15]\n",
                "target = 9\n",
                "result = two_sum(nums, target)\n",
                "print(f\"Indices of numbers that sum to {target}: {result}\")"
            ]
        },
        {
            "cell_type": "markdown",
            "metadata": {},
            "source": [
                "## Practice Problems\n",
                "\n",
                "### Problem 1: Group Anagrams\n",
                "Given an array of strings, group anagrams together."
            ]
        },
        {
            "cell_type": "code",
            "execution_count": null,
            "metadata": {},
            "outputs": [],
            "source": [
                "from collections import defaultdict\n",
                "\n",
                "def groupAnagrams(strs):\n",
                "    \"\"\"Group anagrams together using sorted string as key.\"\"\"\n",
                "    groups = defaultdict(list)\n",
                "    \n",
                "    for s in strs:\n",
                "        # Sort string to use as key\n",
                "        key = ''.join(sorted(s))\n",
                "        groups[key].append(s)\n",
                "    \n",
                "    return list(groups.values())\n",
                "\n",
                "# Example usage\n",
                "strs = [\"eat\", \"tea\", \"tan\", \"ate\", \"nat\", \"bat\"]\n",
                "result = groupAnagrams(strs)\n",
                "print(f\"Grouped anagrams: {result}\")"
            ]
        },
        {
            "cell_type": "markdown",
            "metadata": {},
            "source": [
                "### Problem 2: Longest Substring Without Repeating Characters\n",
                "Find the length of the longest substring without repeating characters."
            ]
        },
        {
            "cell_type": "code",
            "execution_count": null,
            "metadata": {},
            "outputs": [],
            "source": [
                "def lengthOfLongestSubstring(s):\n",
                "    \"\"\"Find length of longest substring without repeating characters.\"\"\"\n",
                "    char_index = {}\n",
                "    max_length = 0\n",
                "    start = 0\n",
                "    \n",
                "    for i, char in enumerate(s):\n",
                "        # If char is seen and its index >= start\n",
                "        if char in char_index and char_index[char] >= start:\n",
                "            start = char_index[char] + 1\n",
                "        else:\n",
                "            max_length = max(max_length, i - start + 1)\n",
                "        \n",
                "        char_index[char] = i\n",
                "    \n",
                "    return max_length\n",
                "\n",
                "# Example usage\n",
                "s = \"abcabcbb\"\n",
                "result = lengthOfLongestSubstring(s)\n",
                "print(f\"Length of longest substring without repeating characters: {result}\")"
            ]
        }
    ],
    "metadata": {
        "kernelspec": {
            "display_name": "Python 3",
            "language": "python",
            "name": "python3"
        },
        "language_info": {
            "codemirror_mode": {
                "name": "ipython",
                "version": 3
            },
            "file_extension": ".py",
            "mimetype": "text/x-python",
            "name": "python",
            "nbconvert_exporter": "python",
            "pygments_lexer": "ipython3",
            "version": "3.8.0"
        }
    },
    "nbformat": 4,
    "nbformat_minor": 4
}