{
    "cells": [
        {
            "cell_type": "markdown",
            "metadata": {},
            "source": [
                "# Advanced Algorithms\n",
                "\n",
                "This notebook covers advanced algorithmic techniques commonly used in coding interviews.\n",
                "\n",
                "## Topics Covered\n",
                "1. Dynamic Programming\n",
                "2. Backtracking\n",
                "3. Greedy Algorithms\n",
                "4. Practice Problems"
            ]
        },
        {
            "cell_type": "markdown",
            "metadata": {},
            "source": [
                "## 1. Dynamic Programming\n",
                "\n",
                "Dynamic Programming (DP) is a method for solving complex problems by breaking them down into simpler subproblems."
            ]
        },
        {
            "cell_type": "code",
            "execution_count": null,
            "metadata": {},
            "outputs": [],
            "source": [
                "def fibonacci_dp(n):\n",
                "    \"\"\"Calculate nth Fibonacci number using DP.\"\"\"\n",
                "    if n <= 1:\n",
                "        return n\n",
                "    \n",
                "    dp = [0] * (n + 1)\n",
                "    dp[1] = 1\n",
                "    \n",
                "    for i in range(2, n + 1):\n",
                "        dp[i] = dp[i-1] + dp[i-2]\n",
                "    \n",
                "    return dp[n]\n",
                "\n",
                "def longest_increasing_subsequence(nums):\n",
                "    \"\"\"Find length of longest increasing subsequence using DP.\"\"\"\n",
                "    if not nums:\n",
                "        return 0\n",
                "    \n",
                "    dp = [1] * len(nums)\n",
                "    \n",
                "    for i in range(1, len(nums)):\n",
                "        for j in range(i):\n",
                "            if nums[i] > nums[j]:\n",
                "                dp[i] = max(dp[i], dp[j] + 1)\n",
                "    \n",
                "    return max(dp)\n",
                "\n",
                "# Example usage\n",
                "print(f\"10th Fibonacci number: {fibonacci_dp(10)}\")\n",
                "nums = [10, 9, 2, 5, 3, 7, 101, 18]\n",
                "print(f\"Length of longest increasing subsequence: {longest_increasing_subsequence(nums)}\")"
            ]
        },
        {
            "cell_type": "markdown",
            "metadata": {},
            "source": [
                "## 2. Backtracking\n",
                "\n",
                "Backtracking is an algorithmic technique that considers searching every possible combination in order to solve a computational problem."
            ]
        },
        {
            "cell_type": "code",
            "execution_count": null,
            "metadata": {},
            "outputs": [],
            "source": [
                "def generate_permutations(nums):\n",
                "    \"\"\"Generate all permutations of a list using backtracking.\"\"\"\n",
                "    def backtrack(start):\n",
                "        if start == len(nums):\n",
                "            result.append(nums[:])\n",
                "            return\n",
                "        \n",
                "        for i in range(start, len(nums)):\n",
                "            nums[start], nums[i] = nums[i], nums[start]\n",
                "            backtrack(start + 1)\n",
                "            nums[start], nums[i] = nums[i], nums[start]\n",
                "    \n",
                "    result = []\n",
                "    backtrack(0)\n",
                "    return result\n",
                "\n",
                "def n_queens(n):\n",
                "    \"\"\"Solve N-Queens problem using backtracking.\"\"\"\n",
                "    def is_safe(board, row, col):\n",
                "        # Check row\n",
                "        for j in range(col):\n",
                "            if board[row][j] == 'Q':\n",
                "                return False\n",
                "        \n",
                "        # Check upper diagonal\n",
                "        for i, j in zip(range(row, -1, -1), range(col, -1, -1)):\n",
                "            if board[i][j] == 'Q':\n",
                "                return False\n",
                "        \n",
                "        # Check lower diagonal\n",
                "        for i, j in zip(range(row, n), range(col, -1, -1)):\n",
                "            if board[i][j] == 'Q':\n",
                "                return False\n",
                "        \n",
                "        return True\n",
                "    \n",
                "    def solve(board, col):\n",
                "        if col >= n:\n",
                "            result.append([''.join(row) for row in board])\n",
                "            return\n",
                "        \n",
                "        for row in range(n):\n",
                "            if is_safe(board, row, col):\n",
                "                board[row][col] = 'Q'\n",
                "                solve(board, col + 1)\n",
                "                board[row][col] = '.'\n",
                "    \n",
                "    result = []\n",
                "    board = [['.' for _ in range(n)] for _ in range(n)]\n",
                "    solve(board, 0)\n",
                "    return result\n",
                "\n",
                "# Example usage\n",
                "nums = [1, 2, 3]\n",
                "print(f\"Permutations of {nums}: {generate_permutations(nums)}\")\n",
                "print(f\"Solutions to 4-Queens: {n_queens(4)}\")"
            ]
        },
        {
            "cell_type": "markdown",
            "metadata": {},
            "source": [
                "## 3. Greedy Algorithms\n",
                "\n",
                "Greedy algorithms make locally optimal choices at each step, hoping to find a global optimum."
            ]
        },
        {
            "cell_type": "code",
            "execution_count": null,
            "metadata": {},
            "outputs": [],
            "source": [
                "def activity_selection(start, finish):\n",
                "    \"\"\"Select maximum number of activities that don't overlap.\"\"\"\n",
                "    n = len(start)\n",
                "    activities = sorted(zip(finish, start))\n",
                "    \n",
                "    selected = [activities[0]]\n",
                "    last_finish = activities[0][0]\n",
                "    \n",
                "    for i in range(1, n):\n",
                "        if activities[i][1] >= last_finish:\n",
                "            selected.append(activities[i])\n",
                "            last_finish = activities[i][0]\n",
                "    \n",
                "    return selected\n",
                "\n",
                "def coin_change_greedy(amount, coins):\n",
                "    \"\"\"Find minimum number of coins that make up amount (greedy approach).\"\"\"\n",
                "    coins.sort(reverse=True)\n",
                "    result = []\n",
                "    remaining = amount\n",
                "    \n",
                "    for coin in coins:\n",
                "        while remaining >= coin:\n",
                "            result.append(coin)\n",
                "            remaining -= coin\n",
                "    \n",
                "    return result if remaining == 0 else []\n",
                "\n",
                "# Example usage\n",
                "start = [1, 3, 0, 5, 8, 5]\n",
                "finish = [2, 4, 6, 7, 9, 9]\n",
                "print(f\"Selected activities: {activity_selection(start, finish)}\")\n",
                "\n",
                "amount = 11\n",
                "coins = [1, 2, 5]\n",
                "print(f\"Coins needed for {amount}: {coin_change_greedy(amount, coins)}\")"
            ]
        },
        {
            "cell_type": "markdown",
            "metadata": {},
            "source": [
                "## Practice Problems\n",
                "\n",
                "### Problem 1: Longest Common Subsequence\n",
                "Find the length of longest common subsequence between two strings."
            ]
        },
        {
            "cell_type": "code",
            "execution_count": null,
            "metadata": {},
            "outputs": [],
            "source": [
                "def longestCommonSubsequence(text1, text2):\n",
                "    \"\"\"Find length of longest common subsequence using DP.\"\"\"\n",
                "    m, n = len(text1), len(text2)\n",
                "    dp = [[0] * (n + 1) for _ in range(m + 1)]\n",
                "    \n",
                "    for i in range(1, m + 1):\n",
                "        for j in range(1, n + 1):\n",
                "            if text1[i-1] == text2[j-1]:\n",
                "                dp[i][j] = dp[i-1][j-1] + 1\n",
                "            else:\n",
                "                dp[i][j] = max(dp[i-1][j], dp[i][j-1])\n",
                "    \n",
                "    return dp[m][n]\n",
                "\n",
                "# Example usage\n",
                "text1 = \"abcde\"\n",
                "text2 = \"ace\"\n",
                "print(f\"Length of longest common subsequence: {longestCommonSubsequence(text1, text2)}\")"
            ]
        },
        {
            "cell_type": "markdown",
            "metadata": {},
            "source": [
                "### Problem 2: Subset Sum\n",
                "Determine if there exists a subset of given numbers that adds up to a target sum."
            ]
        },
        {
            "cell_type": "code",
            "execution_count": null,
            "metadata": {},
            "outputs": [],
            "source": [
                "def subsetSum(nums, target):\n",
                "    \"\"\"Determine if subset with target sum exists using DP.\"\"\"\n",
                "    n = len(nums)\n",
                "    dp = [[False] * (target + 1) for _ in range(n + 1)]\n",
                "    \n",
                "    # Empty subset has sum 0\n",
                "    for i in range(n + 1):\n",
                "        dp[i][0] = True\n",
                "    \n",
                "    for i in range(1, n + 1):\n",
                "        for j in range(1, target + 1):\n",
                "            if nums[i-1] <= j:\n",
                "                dp[i][j] = dp[i-1][j-nums[i-1]] or dp[i-1][j]\n",
                "            else:\n",
                "                dp[i][j] = dp[i-1][j]\n",
                "    \n",
                "    return dp[n][target]\n",
                "\n",
                "# Example usage\n",
                "nums = [3, 34, 4, 12, 5, 2]\n",
                "target = 9\n",
                "print(f\"Subset with sum {target} exists: {subsetSum(nums, target)}\")"
            ]
        }
    ],
    "metadata": {
        "kernelspec": {
            "display_name": "Python 3",
            "language": "python",
            "name": "python3"
        },
        "language_info": {
            "codemirror_mode": {
                "name": "ipython",
                "version": 3
            },
            "file_extension": ".py",
            "mimetype": "text/x-python",
            "name": "python",
            "nbconvert_exporter": "python",
            "pygments_lexer": "ipython3",
            "version": "3.8.0"
        }
    },
    "nbformat": 4,
    "nbformat_minor": 4
}