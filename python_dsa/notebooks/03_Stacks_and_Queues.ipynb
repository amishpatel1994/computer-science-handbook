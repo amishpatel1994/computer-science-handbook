{
    "cells": [
        {
            "cell_type": "markdown",
            "metadata": {},
            "source": [
                "# Stacks and Queues\n",
                "\n",
                "This notebook covers stack and queue data structures, their implementations, and common applications.\n",
                "\n",
                "## Topics Covered\n",
                "1. Stack Implementation and Applications\n",
                "2. Queue Implementation and Applications\n",
                "3. Deque (Double-ended Queue)\n",
                "4. Priority Queue\n",
                "5. Practice Problems"
            ]
        },
        {
            "cell_type": "markdown",
            "metadata": {},
            "source": [
                "## 1. Stack Implementation\n",
                "\n",
                "A stack is a LIFO (Last-In-First-Out) data structure. Common operations:\n",
                "- push: Add element to top\n",
                "- pop: Remove and return top element\n",
                "- peek/top: View top element without removing\n",
                "- isEmpty: Check if stack is empty"
            ]
        },
        {
            "cell_type": "code",
            "execution_count": null,
            "metadata": {},
            "outputs": [],
            "source": [
                "class Stack:\n",
                "    def __init__(self):\n",
                "        self.items = []\n",
                "    \n",
                "    def push(self, item):\n",
                "        self.items.append(item)\n",
                "    \n",
                "    def pop(self):\n",
                "        if not self.is_empty():\n",
                "            return self.items.pop()\n",
                "        raise IndexError(\"pop from empty stack\")\n",
                "    \n",
                "    def peek(self):\n",
                "        if not self.is_empty():\n",
                "            return self.items[-1]\n",
                "        raise IndexError(\"peek at empty stack\")\n",
                "    \n",
                "    def is_empty(self):\n",
                "        return len(self.items) == 0\n",
                "    \n",
                "    def size(self):\n",
                "        return len(self.items)\n",
                "\n",
                "# Example usage\n",
                "stack = Stack()\n",
                "stack.push(1)\n",
                "stack.push(2)\n",
                "stack.push(3)\n",
                "\n",
                "print(f\"Stack size: {stack.size()}\")\n",
                "print(f\"Top element: {stack.peek()}\")\n",
                "print(f\"Popped element: {stack.pop()}\")\n",
                "print(f\"New size: {stack.size()}\")"
            ]
        },
        {
            "cell_type": "markdown",
            "metadata": {},
            "source": [
                "## 2. Queue Implementation\n",
                "\n",
                "A queue is a FIFO (First-In-First-Out) data structure. Common operations:\n",
                "- enqueue: Add element to back\n",
                "- dequeue: Remove and return front element\n",
                "- front: View front element without removing\n",
                "- isEmpty: Check if queue is empty"
            ]
        },
        {
            "cell_type": "code",
            "execution_count": null,
            "metadata": {},
            "outputs": [],
            "source": [
                "from collections import deque\n",
                "\n",
                "class Queue:\n",
                "    def __init__(self):\n",
                "        self.items = deque()\n",
                "    \n",
                "    def enqueue(self, item):\n",
                "        self.items.append(item)\n",
                "    \n",
                "    def dequeue(self):\n",
                "        if not self.is_empty():\n",
                "            return self.items.popleft()\n",
                "        raise IndexError(\"dequeue from empty queue\")\n",
                "    \n",
                "    def front(self):\n",
                "        if not self.is_empty():\n",
                "            return self.items[0]\n",
                "        raise IndexError(\"front from empty queue\")\n",
                "    \n",
                "    def is_empty(self):\n",
                "        return len(self.items) == 0\n",
                "    \n",
                "    def size(self):\n",
                "        return len(self.items)\n",
                "\n",
                "# Example usage\n",
                "queue = Queue()\n",
                "queue.enqueue(1)\n",
                "queue.enqueue(2)\n",
                "queue.enqueue(3)\n",
                "\n",
                "print(f\"Queue size: {queue.size()}\")\n",
                "print(f\"Front element: {queue.front()}\")\n",
                "print(f\"Dequeued element: {queue.dequeue()}\")\n",
                "print(f\"New size: {queue.size()}\")"
            ]
        },
        {
            "cell_type": "markdown",
            "metadata": {},
            "source": [
                "## 3. Deque (Double-ended Queue)\n",
                "\n",
                "A deque allows insertion and deletion at both ends."
            ]
        },
        {
            "cell_type": "code",
            "execution_count": null,
            "metadata": {},
            "outputs": [],
            "source": [
                "from collections import deque\n",
                "\n",
                "# Create a deque\n",
                "d = deque()\n",
                "\n",
                "# Add elements to both ends\n",
                "d.append(1)        # Add to right\n",
                "d.appendleft(2)    # Add to left\n",
                "d.append(3)\n",
                "d.appendleft(4)\n",
                "\n",
                "print(f\"Deque: {d}\")\n",
                "\n",
                "# Remove elements from both ends\n",
                "right = d.pop()      # Remove from right\n",
                "left = d.popleft()   # Remove from left\n",
                "\n",
                "print(f\"After removing from both ends: {d}\")\n",
                "print(f\"Removed from right: {right}, from left: {left}\")"
            ]
        },
        {
            "cell_type": "markdown",
            "metadata": {},
            "source": [
                "## 4. Priority Queue\n",
                "\n",
                "A priority queue is an abstract data type where elements have priorities. Python's heapq module implements a min-heap."
            ]
        },
        {
            "cell_type": "code",
            "execution_count": null,
            "metadata": {},
            "outputs": [],
            "source": [
                "import heapq\n",
                "\n",
                "class PriorityQueue:\n",
                "    def __init__(self):\n",
                "        self.elements = []\n",
                "    \n",
                "    def push(self, item, priority):\n",
                "        heapq.heappush(self.elements, (priority, item))\n",
                "    \n",
                "    def pop(self):\n",
                "        if not self.is_empty():\n",
                "            return heapq.heappop(self.elements)[1]\n",
                "        raise IndexError(\"pop from empty priority queue\")\n",
                "    \n",
                "    def is_empty(self):\n",
                "        return len(self.elements) == 0\n",
                "\n",
                "# Example usage\n",
                "pq = PriorityQueue()\n",
                "pq.push(\"Task 1\", 3)\n",
                "pq.push(\"Task 2\", 1)\n",
                "pq.push(\"Task 3\", 2)\n",
                "\n",
                "print(\"Tasks in priority order:\")\n",
                "while not pq.is_empty():\n",
                "    print(pq.pop())"
            ]
        },
        {
            "cell_type": "markdown",
            "metadata": {},
            "source": [
                "## Practice Problems\n",
                "\n",
                "### Problem 1: Valid Parentheses\n",
                "Given a string containing just the characters '(', ')', '{', '}', '[' and ']', determine if the input string is valid."
            ]
        },
        {
            "cell_type": "code",
            "execution_count": null,
            "metadata": {},
            "outputs": [],
            "source": [
                "def isValid(s):\n",
                "    \"\"\"Check if string has valid parentheses using stack.\"\"\"\n",
                "    stack = []\n",
                "    brackets = {')': '(', '}': '{', ']': '['}\n",
                "    \n",
                "    for char in s:\n",
                "        if char in brackets.values():\n",
                "            stack.append(char)\n",
                "        elif char in brackets:\n",
                "            if not stack or stack.pop() != brackets[char]:\n",
                "                return False\n",
                "    \n",
                "    return len(stack) == 0\n",
                "\n",
                "# Example usage\n",
                "test_cases = [\"()\", \"()[]{}\", \"(]\", \"([)]\"]\n",
                "for s in test_cases:\n",
                "    print(f\"Is '{s}' valid? {isValid(s)}\")"
            ]
        },
        {
            "cell_type": "markdown",
            "metadata": {},
            "source": [
                "### Problem 2: Implement Stack using Queues\n",
                "Implement a last-in-first-out (LIFO) stack using only two queues."
            ]
        },
        {
            "cell_type": "code",
            "execution_count": null,
            "metadata": {},
            "outputs": [],
            "source": [
                "from collections import deque\n",
                "\n",
                "class MyStack:\n",
                "    def __init__(self):\n",
                "        self.q1 = deque()\n",
                "        self.q2 = deque()\n",
                "    \n",
                "    def push(self, x):\n",
                "        # Add new element to q2\n",
                "        self.q2.append(x)\n",
                "        # Move all elements from q1 to q2\n",
                "        while self.q1:\n",
                "            self.q2.append(self.q1.popleft())\n",
                "        # Swap q1 and q2\n",
                "        self.q1, self.q2 = self.q2, self.q1\n",
                "    \n",
                "    def pop(self):\n",
                "        if not self.empty():\n",
                "            return self.q1.popleft()\n",
                "        return None\n",
                "    \n",
                "    def top(self):\n",
                "        if not self.empty():\n",
                "            return self.q1[0]\n",
                "        return None\n",
                "    \n",
                "    def empty(self):\n",
                "        return len(self.q1) == 0\n",
                "\n",
                "# Example usage\n",
                "stack = MyStack()\n",
                "stack.push(1)\n",
                "stack.push(2)\n",
                "print(f\"Top element: {stack.top()}\")\n",
                "print(f\"Popped element: {stack.pop()}\")\n",
                "print(f\"Is empty? {stack.empty()}\")"
            ]
        }
    ],
    "metadata": {
        "kernelspec": {
            "display_name": "Python 3",
            "language": "python",
            "name": "python3"
        },
        "language_info": {
            "codemirror_mode": {
                "name": "ipython",
                "version": 3
            },
            "file_extension": ".py",
            "mimetype": "text/x-python",
            "name": "python",
            "nbconvert_exporter": "python",
            "pygments_lexer": "ipython3",
            "version": "3.8.0"
        }
    },
    "nbformat": 4,
    "nbformat_minor": 4
}